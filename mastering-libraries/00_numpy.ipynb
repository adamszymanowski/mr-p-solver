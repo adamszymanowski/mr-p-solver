{
 "cells": [
  {
   "cell_type": "markdown",
   "metadata": {},
   "source": [
    "# NumPy Tutorial (2022): For Physicists, Engineers, and Mathematicians\n",
    "[tutorial link](https://www.youtube.com/watch?v=DcfYgePyedM&list=PLkdGijFCNuVm4IfZlsZPEt4fPJHfl-0g5&index=2)"
   ]
  },
  {
   "cell_type": "code",
   "execution_count": 1,
   "metadata": {},
   "outputs": [],
   "source": [
    "import numpy as np\n",
    "import matplotlib.pyplot as plt"
   ]
  },
  {
   "cell_type": "markdown",
   "metadata": {},
   "source": [
    "## Creating Arrays"
   ]
  },
  {
   "cell_type": "code",
   "execution_count": 11,
   "metadata": {},
   "outputs": [
    {
     "name": "stdout",
     "output_type": "stream",
     "text": [
      "[3 5 7 3]\n",
      "[0. 0. 0. 0. 0. 0. 0. 0. 0. 0.]\n",
      "[1. 1. 1. 1. 1. 1. 1. 1. 1. 1.]\n",
      "[0.23379021 0.66628987 0.77408164 0.22919747 0.04166522 0.51299495\n",
      " 0.00612274 0.36233424 0.61263691 0.09048113]\n",
      "[ 0.67292524 -0.68959818 -0.26128946  0.55574782  0.42746834 -1.32501392\n",
      " -0.07047731  0.21383951 -1.99503522 -0.78566621]\n",
      "\n",
      "linspace size: 20\n",
      " [0.         0.05263158 0.10526316 0.15789474 0.21052632 0.26315789\n",
      " 0.31578947 0.36842105 0.42105263 0.47368421 0.52631579 0.57894737\n",
      " 0.63157895 0.68421053 0.73684211 0.78947368 0.84210526 0.89473684\n",
      " 0.94736842 1.        ]\n",
      "arange size: 50\n",
      " [0.   0.02 0.04 0.06 0.08 0.1  0.12 0.14 0.16 0.18 0.2  0.22 0.24 0.26\n",
      " 0.28 0.3  0.32 0.34 0.36 0.38 0.4  0.42 0.44 0.46 0.48 0.5  0.52 0.54\n",
      " 0.56 0.58 0.6  0.62 0.64 0.66 0.68 0.7  0.72 0.74 0.76 0.78 0.8  0.82\n",
      " 0.84 0.86 0.88 0.9  0.92 0.94 0.96 0.98]\n"
     ]
    }
   ],
   "source": [
    "a1 = np.array([3,5,7,3])\n",
    "print(a1)\n",
    "a2 = np.zeros(10)\n",
    "print(a2)\n",
    "a3 = np.ones(10)\n",
    "print(a3)\n",
    "a4 = np.random.random(10) # uniform distribution\n",
    "print(a4)\n",
    "a5 = np.random.randn(10) # gaussian distribution, mean = 0 standard deviation = 1\n",
    "print(a5)\n",
    "\n",
    "# equally spaced apart from one value to another, with number of elements\n",
    "a6 = np.linspace(0, 1, 20) \n",
    "print(f\"\\nlinspace size: {a6.size}\\n\", a6)\n",
    "# similar to linspace, but instead of specifying number of elements, you specify the spacing (step)\n",
    "a7 =np.arange(0, 1, 0.02)\n",
    "print(f\"arange size: {a7.size}\\n\", a7)"
   ]
  },
  {
   "cell_type": "markdown",
   "metadata": {},
   "source": [
    "## Array Operations"
   ]
  },
  {
   "cell_type": "code",
   "execution_count": 16,
   "metadata": {},
   "outputs": [
    {
     "name": "stdout",
     "output_type": "stream",
     "text": [
      "[ 6 10 14  6]\n",
      "[0.33333333 0.2        0.14285714 0.33333333]\n",
      "[3 5 7 3]\n",
      "[False  True  True False]\n"
     ]
    },
    {
     "data": {
      "text/plain": [
       "[<matplotlib.lines.Line2D at 0x2d77d667c40>]"
      ]
     },
     "execution_count": 16,
     "metadata": {},
     "output_type": "execute_result"
    },
    {
     "data": {
      "image/png": "[encoded data removed]",
      "text/plain": [
       "<Figure size 432x288 with 1 Axes>"
      ]
     },
     "metadata": {
      "needs_background": "light"
     },
     "output_type": "display_data"
    }
   ],
   "source": [
    "print(2*a1)\n",
    "print(1/a1)\n",
    "\n",
    "# Boolean operations\n",
    "print(a1)\n",
    "print(a1 > 4) # useful for indexing\n",
    "\n",
    "# Plotting operations\n",
    "x = np.linspace(0, 1, 100)\n",
    "y = x**2\n",
    "plt.plot(x, y)"
   ]
  },
  {
   "cell_type": "code",
   "execution_count": 17,
   "metadata": {},
   "outputs": [
    {
     "data": {
      "text/plain": [
       "(array([2., 1., 2., 0., 1., 0., 1., 1., 1., 1.]),\n",
       " array([0.00612274, 0.08291863, 0.15971452, 0.23651041, 0.3133063 ,\n",
       "        0.39010219, 0.46689808, 0.54369397, 0.62048986, 0.69728575,\n",
       "        0.77408164]),\n",
       " <BarContainer object of 10 artists>)"
      ]
     },
     "execution_count": 17,
     "metadata": {},
     "output_type": "execute_result"
    },
    {
     "data": {
      "image/png": "[encoded data removed]",
      "text/plain": [
       "<Figure size 432x288 with 1 Axes>"
      ]
     },
     "metadata": {
      "needs_background": "light"
     },
     "output_type": "display_data"
    }
   ],
   "source": [
    "# Plotting histogram\n",
    "plt.hist(a4)"
   ]
  },
  {
   "cell_type": "code",
   "execution_count": 21,
   "metadata": {},
   "outputs": [],
   "source": [
    "# Using user defined functions\n",
    "def f(x):\n",
    "    return x**2 + np.sin(x) / np.exp(-x)\n",
    "\n",
    "x = np.linspace(0, 10, 100)\n",
    "y = f(x)"
   ]
  },
  {
   "cell_type": "code",
   "execution_count": 22,
   "metadata": {},
   "outputs": [
    {
     "data": {
      "text/plain": [
       "[<matplotlib.lines.Line2D at 0x2d77d81f880>]"
      ]
     },
     "execution_count": 22,
     "metadata": {},
     "output_type": "execute_result"
    },
    {
     "data": {
      "image/png": "[encoded data removed]",
      "text/plain": [
       "<Figure size 432x288 with 1 Axes>"
      ]
     },
     "metadata": {
      "needs_background": "light"
     },
     "output_type": "display_data"
    }
   ],
   "source": [
    "plt.plot(x, y)"
   ]
  },
  {
   "cell_type": "markdown",
   "metadata": {},
   "source": [
    "list of many mathematical functions here:\n",
    "\n",
    "[https://numpy.org/doc/stable/reference/routines.math.html](https://numpy.org/doc/stable/reference/routines.math.html)"
   ]
  },
  {
   "cell_type": "markdown",
   "metadata": {},
   "source": [
    "## Array Indexing/Slicing"
   ]
  },
  {
   "cell_type": "code",
   "execution_count": 38,
   "metadata": {},
   "outputs": [
    {
     "name": "stdout",
     "output_type": "stream",
     "text": [
      "[ 2  4  6  8 10]\n",
      "6\n",
      "2\n",
      "[ 6  8 10]\n",
      "[2 4 6]\n",
      "[4 6]\n",
      "[ 4  6  8 10]\n",
      "['Jim' 'Josh']\n",
      "['J' 'L' 'J' 'P']\n",
      "['Jim' 'Josh']\n",
      "[2 0 2 0 2]\n",
      "[4 8]\n"
     ]
    }
   ],
   "source": [
    "a1 = np.array([2,4,6,8,10])\n",
    "print(a1)\n",
    "print(a1[2])\n",
    "print(a1[0])\n",
    "print(a1[2:])\n",
    "print(a1[:-2])\n",
    "print(a1[1:-2])\n",
    "print(a1[a1>3])\n",
    "\n",
    "# Works also with strings\n",
    "names = np.array(['Jim', \"Luke\", \"Josh\", \"Pete\"])\n",
    "starts_with_j = np.vectorize(lambda s: s[0] == \"J\")(names)\n",
    "print(names[starts_with_j])\n",
    "\n",
    "# Playing with the concept\n",
    "print(np.vectorize(lambda s: s[0])(names))\n",
    "starts_with_j = np.vectorize(lambda s: s[0])(names) == \"J\"\n",
    "print(names[starts_with_j])\n",
    "\n",
    "# Elements divisible by 4\n",
    "print(a1%4) # modulus works too, so we can use that:\n",
    "print(a1[a1%4 == 0]) # like this\n"
   ]
  },
  {
   "cell_type": "markdown",
   "metadata": {},
   "source": [
    "## Calculus / Statistical Functions"
   ]
  },
  {
   "cell_type": "code",
   "execution_count": null,
   "metadata": {},
   "outputs": [],
   "source": [
    "a1 = 2*np.random.randn(10000) + 10"
   ]
  },
  {
   "cell_type": "markdown",
   "metadata": {},
   "source": [
    "Mean, standard deviation, and precentiles of arrays:"
   ]
  },
  {
   "cell_type": "code",
   "execution_count": 57,
   "metadata": {},
   "outputs": [
    {
     "name": "stdout",
     "output_type": "stream",
     "text": [
      "            mean: 6.0\n",
      "        std.dev.: 2.828\n",
      "   percentile 80: 8.4\n"
     ]
    }
   ],
   "source": [
    "# let's practice f-string formatting while I'm at it\n",
    "stats = [(\"mean\", np.mean(a1)),\n",
    "         (\"std.dev.\", np.std(a1)),\n",
    "         (\"percentile 80\", np.percentile(a1, 80))] # 80% of numbers are less than this one\n",
    "\n",
    "for stat_name, stat_value in stats:\n",
    "    print(f\"{stat_name:>16}: {stat_value:.4}\")"
   ]
  },
  {
   "cell_type": "markdown",
   "metadata": {},
   "source": [
    "Integrals and derivatives"
   ]
  },
  {
   "cell_type": "code",
   "execution_count": 64,
   "metadata": {},
   "outputs": [
    {
     "name": "stdout",
     "output_type": "stream",
     "text": [
      "[ 1  3  6 10]\n"
     ]
    },
    {
     "data": {
      "text/plain": [
       "[<matplotlib.lines.Line2D at 0x2d77f732200>]"
      ]
     },
     "execution_count": 64,
     "metadata": {},
     "output_type": "execute_result"
    },
    {
     "data": {
      "image/png": "[encoded data removed]",
      "text/plain": [
       "<Figure size 432x288 with 1 Axes>"
      ]
     },
     "metadata": {
      "needs_background": "light"
     },
     "output_type": "display_data"
    }
   ],
   "source": [
    "x = np.linspace(1, 10, 100)\n",
    "y = 1/x**2 * np.sin(x)\n",
    "\n",
    "\n",
    "dydx = np.gradient(y, x) # derivative\n",
    "print(np.cumsum(np.array([1,2,3,4]))) # cumulative sum example\n",
    "y_int = np.cumsum(y) * (x[1] - x[0]) # integral; (x[1] - x[0]) is dx\n",
    "\n",
    "\n",
    "\n",
    "plt.plot(x,y)\n",
    "plt.plot(x, dydx)\n",
    "plt.plot(x, y_int)"
   ]
  },
  {
   "cell_type": "markdown",
   "metadata": {},
   "source": [
    "## Examples"
   ]
  },
  {
   "cell_type": "markdown",
   "metadata": {},
   "source": [
    "### Question 1\n",
    "let $ y=e^{-x/10} sin(x) $ consider 10000 x intervals in range [0,10]\n",
    "1. Plot the function $ y $ vs $ x $ in the range [0,10]\n",
    "2. Compute the mean and standard deviation of $ y $ for $ x $ values in [4,7]\n",
    "3. For x in range [4,7] find the value $ y_m $ such that 80% of $ y $ values are less than $ y_m $\n",
    "4. Plot $ dx/dy $ vs $ x $\n",
    "5. Find the locations where $ dy/dx = 0 $"
   ]
  },
  {
   "cell_type": "code",
   "execution_count": 90,
   "metadata": {},
   "outputs": [],
   "source": [
    "x = np.linspace(0, 10, 10001) # you always need +1 when it comes to intervals!\n",
    "\n",
    "def f(x):\n",
    "    return np.exp(-x/10) * np.sin(x)\n",
    "\n",
    "y = f(x)"
   ]
  },
  {
   "cell_type": "code",
   "execution_count": 91,
   "metadata": {},
   "outputs": [
    {
     "data": {
      "text/plain": [
       "[<matplotlib.lines.Line2D at 0x2d77fa3fa90>]"
      ]
     },
     "execution_count": 91,
     "metadata": {},
     "output_type": "execute_result"
    },
    {
     "data": {
      "image/png": "[encoded data removed]",
      "text/plain": [
       "<Figure size 432x288 with 1 Axes>"
      ]
     },
     "metadata": {
      "needs_background": "light"
     },
     "output_type": "display_data"
    }
   ],
   "source": [
    "# 1.\n",
    "plt.plot(x, y)"
   ]
  },
  {
   "cell_type": "code",
   "execution_count": 92,
   "metadata": {},
   "outputs": [
    {
     "name": "stdout",
     "output_type": "stream",
     "text": [
      "-0.2956023068963138\n",
      "0.31448753875085117\n"
     ]
    }
   ],
   "source": [
    "# 2.\n",
    "subrange = (x>=4)*(x<=7)\n",
    "print(np.mean(y[subrange]))\n",
    "print(np.std(y[subrange]))"
   ]
  },
  {
   "cell_type": "code",
   "execution_count": 93,
   "metadata": {},
   "outputs": [
    {
     "name": "stdout",
     "output_type": "stream",
     "text": [
      "0.06145551274590662\n"
     ]
    }
   ],
   "source": [
    "# 3.\n",
    "print(np.percentile(y[subrange], 80))"
   ]
  },
  {
   "cell_type": "code",
   "execution_count": 94,
   "metadata": {},
   "outputs": [
    {
     "data": {
      "text/plain": [
       "[<matplotlib.lines.Line2D at 0x2d77fa9e170>]"
      ]
     },
     "execution_count": 94,
     "metadata": {},
     "output_type": "execute_result"
    },
    {
     "data": {
      "image/png": "[encoded data removed]",
      "text/plain": [
       "<Figure size 432x288 with 1 Axes>"
      ]
     },
     "metadata": {
      "needs_background": "light"
     },
     "output_type": "display_data"
    }
   ],
   "source": [
    "# 4.\n",
    "dydx = np.gradient(y, x)\n",
    "plt.plot(x, dydx)"
   ]
  },
  {
   "cell_type": "code",
   "execution_count": 96,
   "metadata": {},
   "outputs": [
    {
     "name": "stdout",
     "output_type": "stream",
     "text": [
      "[ 0.99979935  0.9995979   0.99939548 ... -0.28918296 -0.28892346\n",
      " -0.28879364]\n",
      "[ 0.99989984  0.99979935  0.9995979  ... -0.28944223 -0.28918296\n",
      " -0.28892346]\n",
      "dy/dx = 0, for:\n",
      "[1.472 4.613 7.755]\n"
     ]
    }
   ],
   "source": [
    "# 5. \n",
    "print(dydx[1:])\n",
    "print(dydx[:-1])\n",
    "print(\"dy/dx = 0, for:\")\n",
    "zero_crossing = x[1:][dydx[1:] * dydx[:-1] < 0]\n",
    "print(zero_crossing)"
   ]
  },
  {
   "cell_type": "markdown",
   "metadata": {},
   "source": [
    "**EXTRA STUFF** Let's plot zero points for fun"
   ]
  },
  {
   "cell_type": "code",
   "execution_count": 106,
   "metadata": {},
   "outputs": [
    {
     "data": {
      "text/plain": [
       "[<matplotlib.lines.Line2D at 0x2d70391bd30>]"
      ]
     },
     "execution_count": 106,
     "metadata": {},
     "output_type": "execute_result"
    },
    {
     "data": {
      "image/png": "[encoded data removed]",
      "text/plain": [
       "<Figure size 432x288 with 1 Axes>"
      ]
     },
     "metadata": {
      "needs_background": "light"
     },
     "output_type": "display_data"
    }
   ],
   "source": [
    "plt.plot(x, dydx)\n",
    "plt.plot(zero_crossing, np.zeros_like(zero_crossing), \"ro\")"
   ]
  },
  {
   "cell_type": "markdown",
   "metadata": {},
   "source": [
    "### Question 2\n",
    "Sum together every number feom 0 to 10000 except those that can be divided by 4 or 7. Do this in one line of code."
   ]
  },
  {
   "cell_type": "code",
   "execution_count": 114,
   "metadata": {},
   "outputs": [
    {
     "data": {
      "text/plain": [
       "32147142"
      ]
     },
     "execution_count": 114,
     "metadata": {},
     "output_type": "execute_result"
    }
   ],
   "source": [
    "np.sum(np.arange(0, 10001, 1)[(np.arange(0, 10001, 1) % 4 != 0) * (np.arange(0, 10001, 1) % 7 != 0)])\n"
   ]
  },
  {
   "cell_type": "markdown",
   "metadata": {},
   "source": [
    "### Question 3\n",
    "Consider the flower petal $ r(\\theta) = 1 + \\frac{3}{4}sin(3\\theta) $ for $ 0 \\leq \\theta \\leq 2\\pi $\n",
    "\n",
    "1. Make a plot of flower (find x and y points)\n",
    "2. Compute area using calculus formula $ A = \\int_0^{2\\pi} = \\frac{1}{2} r^2 d\\theta $\n",
    "3. Compute the arclength using the calculus formula $ L = \\int_0^{2\\pi} \\sqrt{r^2 + \\left( \\frac{dr}{d\\theta} \\right)^2} d\\theta$"
   ]
  },
  {
   "cell_type": "code",
   "execution_count": 116,
   "metadata": {},
   "outputs": [],
   "source": [
    "theta = np.linspace(0, 2*np.pi, 1000)\n",
    "r = 1 + (3/4)*np.sin(3*theta)"
   ]
  },
  {
   "cell_type": "code",
   "execution_count": 117,
   "metadata": {},
   "outputs": [
    {
     "data": {
      "text/plain": [
       "[<matplotlib.lines.Line2D at 0x2d7039858d0>]"
      ]
     },
     "execution_count": 117,
     "metadata": {},
     "output_type": "execute_result"
    },
    {
     "data": {
      "image/png": "[encoded data removed]",
      "text/plain": [
       "<Figure size 432x288 with 1 Axes>"
      ]
     },
     "metadata": {
      "needs_background": "light"
     },
     "output_type": "display_data"
    }
   ],
   "source": [
    "# 1. \n",
    "\n",
    "# this is how you convert from (theta, r)  to (x,y)\n",
    "x = r * np.cos(theta)\n",
    "y = r * np.sin(theta)\n",
    "\n",
    "plt.plot(x,y)"
   ]
  },
  {
   "cell_type": "code",
   "execution_count": 120,
   "metadata": {},
   "outputs": [
    {
     "name": "stdout",
     "output_type": "stream",
     "text": [
      "4.028310324802903\n"
     ]
    }
   ],
   "source": [
    "# 2. \n",
    "A = 1/2 * np.sum(r**2) * (theta[1] - theta[0])\n",
    "print(A)"
   ]
  },
  {
   "cell_type": "code",
   "execution_count": 136,
   "metadata": {},
   "outputs": [
    {
     "name": "stdout",
     "output_type": "stream",
     "text": [
      "11.640021569013866\n"
     ]
    }
   ],
   "source": [
    "# 3. \n",
    "L = np.sum(np.sqrt((r**2) + np.gradient(r, theta)**2)) * (theta[1]-theta[0])\n",
    "print(L)"
   ]
  }
 ],
 "metadata": {
  "kernelspec": {
   "display_name": "Python 3.10.5 64-bit",
   "language": "python",
   "name": "python3"
  },
  "language_info": {
   "codemirror_mode": {
    "name": "ipython",
    "version": 3
   },
   "file_extension": ".py",
   "mimetype": "text/x-python",
   "name": "python",
   "nbconvert_exporter": "python",
   "pygments_lexer": "ipython3",
   "version": "3.10.5"
  },
  "orig_nbformat": 4,
  "vscode": {
   "interpreter": {
    "hash": "971cac2d3a85aca30ddd2f84efc770d4552bac85453983cef0b0351cb5d9b584"
   }
  }
 },
 "nbformat": 4,
 "nbformat_minor": 2
}
